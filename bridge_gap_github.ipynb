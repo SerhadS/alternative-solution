{
 "cells": [
  {
   "cell_type": "markdown",
   "metadata": {},
   "source": [
    "### This notebooks introduces an alternative solution to the CNN-based model offered in the paper https://doi.org/10.1109/TEM.2020.3021698 . \n",
    "Note: It covers only the cpu type classification since the model in the paper nearly fit the data distribution to labels of the training data"
   ]
  },
  {
   "cell_type": "code",
   "execution_count": 16,
   "metadata": {},
   "outputs": [],
   "source": [
    "import numpy as np\n",
    "import pandas as pd\n",
    "from googletrans import Translator\n",
    "import random\n",
    "import copy\n",
    "import matplotlib.pyplot as plt"
   ]
  },
  {
   "cell_type": "markdown",
   "metadata": {},
   "source": [
    "### First read the data files"
   ]
  },
  {
   "cell_type": "code",
   "execution_count": 4,
   "metadata": {},
   "outputs": [],
   "source": [
    "# review data from amazon\n",
    "review_train = np.load('./data/review.train.npz')\n",
    "review_train_keys = [x for x in review_train.keys()]"
   ]
  },
  {
   "cell_type": "code",
   "execution_count": 9,
   "metadata": {},
   "outputs": [],
   "source": [
    "# curated user needs dataset for training\n",
    "need_train = np.load('need.train.npz')\n",
    "need_train_keys = [x for x in need_train.keys()]"
   ]
  },
  {
   "cell_type": "code",
   "execution_count": 7,
   "metadata": {},
   "outputs": [],
   "source": [
    "# curated user needs dataset for testing\n",
    "need_test = np.load('need.test.npz')\n",
    "need_test_keys = [x for x in need_test.keys()]"
   ]
  },
  {
   "cell_type": "code",
   "execution_count": 6,
   "metadata": {},
   "outputs": [],
   "source": [
    "# the vocabulary authors used in the paper\n",
    "vocab = {}\n",
    "\n",
    "with open('vocab.txt', encoding = 'utf-8') as f:\n",
    "    for i, line in enumerate(f.readlines()):\n",
    "        vocab[i] = {'text':line[:-1], 'tfidf':[], 'count' : []}"
   ]
  },
  {
   "cell_type": "markdown",
   "metadata": {},
   "source": [
    "### reading files in pandas tables"
   ]
  },
  {
   "cell_type": "code",
   "execution_count": 10,
   "metadata": {},
   "outputs": [
    {
     "data": {
      "text/html": [
       "<div>\n",
       "<style scoped>\n",
       "    .dataframe tbody tr th:only-of-type {\n",
       "        vertical-align: middle;\n",
       "    }\n",
       "\n",
       "    .dataframe tbody tr th {\n",
       "        vertical-align: top;\n",
       "    }\n",
       "\n",
       "    .dataframe thead th {\n",
       "        text-align: right;\n",
       "    }\n",
       "</style>\n",
       "<table border=\"1\" class=\"dataframe\">\n",
       "  <thead>\n",
       "    <tr style=\"text-align: right;\">\n",
       "      <th></th>\n",
       "      <th>text</th>\n",
       "      <th>screen_label</th>\n",
       "      <th>cpu_label</th>\n",
       "      <th>ram_label</th>\n",
       "      <th>hdd_label</th>\n",
       "      <th>gpu_label</th>\n",
       "    </tr>\n",
       "  </thead>\n",
       "  <tbody>\n",
       "    <tr>\n",
       "      <th>0</th>\n",
       "      <td>very compact ... nice ... fast browsing ...</td>\n",
       "      <td>0</td>\n",
       "      <td>6</td>\n",
       "      <td>0</td>\n",
       "      <td>0</td>\n",
       "      <td>2</td>\n",
       "    </tr>\n",
       "    <tr>\n",
       "      <th>1</th>\n",
       "      <td>i love it so far ... you ca n't go wrong .</td>\n",
       "      <td>0</td>\n",
       "      <td>6</td>\n",
       "      <td>0</td>\n",
       "      <td>0</td>\n",
       "      <td>2</td>\n",
       "    </tr>\n",
       "    <tr>\n",
       "      <th>2</th>\n",
       "      <td>work really good , is very light and good</td>\n",
       "      <td>0</td>\n",
       "      <td>6</td>\n",
       "      <td>0</td>\n",
       "      <td>0</td>\n",
       "      <td>2</td>\n",
       "    </tr>\n",
       "    <tr>\n",
       "      <th>3</th>\n",
       "      <td>great laptop for the price .</td>\n",
       "      <td>3</td>\n",
       "      <td>6</td>\n",
       "      <td>2</td>\n",
       "      <td>5</td>\n",
       "      <td>7</td>\n",
       "    </tr>\n",
       "    <tr>\n",
       "      <th>4</th>\n",
       "      <td>very fast for what i use it for .</td>\n",
       "      <td>3</td>\n",
       "      <td>6</td>\n",
       "      <td>2</td>\n",
       "      <td>5</td>\n",
       "      <td>7</td>\n",
       "    </tr>\n",
       "  </tbody>\n",
       "</table>\n",
       "</div>"
      ],
      "text/plain": [
       "                                          text screen_label cpu_label  \\\n",
       "0  very compact ... nice ... fast browsing ...            0         6   \n",
       "1   i love it so far ... you ca n't go wrong .            0         6   \n",
       "2    work really good , is very light and good            0         6   \n",
       "3                 great laptop for the price .            3         6   \n",
       "4            very fast for what i use it for .            3         6   \n",
       "\n",
       "  ram_label hdd_label gpu_label  \n",
       "0         0         0         2  \n",
       "1         0         0         2  \n",
       "2         0         0         2  \n",
       "3         2         5         7  \n",
       "4         2         5         7  "
      ]
     },
     "execution_count": 10,
     "metadata": {},
     "output_type": "execute_result"
    }
   ],
   "source": [
    "df_review_train = pd.DataFrame(columns = review_train_keys)\n",
    "for i, line in enumerate(review_train['text']):\n",
    "    temp = [vocab[x]['text'] for x in line if vocab[x]['text']!='<pad>' and vocab[x]['text']!='<unk>']\n",
    "    df_review_train.loc[i,'text'] = \" \".join(temp)\n",
    "    df_review_train.loc[i,'screen_label'] =  review_train['screen_label'][i]\n",
    "    df_review_train.loc[i,'cpu_label'] =  review_train['cpu_label'][i]\n",
    "    df_review_train.loc[i,'ram_label'] =  review_train['ram_label'][i]\n",
    "    df_review_train.loc[i,'hdd_label'] =  review_train['hdd_label'][i]\n",
    "    df_review_train.loc[i,'gpu_label'] =  review_train['gpu_label'][i]\n",
    "df_review_train.head()"
   ]
  },
  {
   "cell_type": "code",
   "execution_count": 11,
   "metadata": {},
   "outputs": [
    {
     "data": {
      "text/html": [
       "<div>\n",
       "<style scoped>\n",
       "    .dataframe tbody tr th:only-of-type {\n",
       "        vertical-align: middle;\n",
       "    }\n",
       "\n",
       "    .dataframe tbody tr th {\n",
       "        vertical-align: top;\n",
       "    }\n",
       "\n",
       "    .dataframe thead th {\n",
       "        text-align: right;\n",
       "    }\n",
       "</style>\n",
       "<table border=\"1\" class=\"dataframe\">\n",
       "  <thead>\n",
       "    <tr style=\"text-align: right;\">\n",
       "      <th></th>\n",
       "      <th>text</th>\n",
       "      <th>screen_label</th>\n",
       "      <th>cpu_label</th>\n",
       "      <th>ram_label</th>\n",
       "      <th>hdd_label</th>\n",
       "      <th>gpu_label</th>\n",
       "    </tr>\n",
       "  </thead>\n",
       "  <tbody>\n",
       "    <tr>\n",
       "      <th>0</th>\n",
       "      <td>i am not finding a fancy computer but a powerf...</td>\n",
       "      <td>3</td>\n",
       "      <td>5</td>\n",
       "      <td>4</td>\n",
       "      <td>6</td>\n",
       "      <td>3</td>\n",
       "    </tr>\n",
       "    <tr>\n",
       "      <th>1</th>\n",
       "      <td>i am replacing my old computer which i want a ...</td>\n",
       "      <td>3</td>\n",
       "      <td>2</td>\n",
       "      <td>2</td>\n",
       "      <td>5</td>\n",
       "      <td>0</td>\n",
       "    </tr>\n",
       "    <tr>\n",
       "      <th>2</th>\n",
       "      <td>the computer should be light .</td>\n",
       "      <td>3</td>\n",
       "      <td>7</td>\n",
       "      <td>2</td>\n",
       "      <td>5</td>\n",
       "      <td>4</td>\n",
       "    </tr>\n",
       "    <tr>\n",
       "      <th>3</th>\n",
       "      <td>i need a real fast computer .</td>\n",
       "      <td>3</td>\n",
       "      <td>6</td>\n",
       "      <td>2</td>\n",
       "      <td>6</td>\n",
       "      <td>3</td>\n",
       "    </tr>\n",
       "    <tr>\n",
       "      <th>4</th>\n",
       "      <td>i need to bring my computer to school so i hop...</td>\n",
       "      <td>2</td>\n",
       "      <td>6</td>\n",
       "      <td>3</td>\n",
       "      <td>5</td>\n",
       "      <td>3</td>\n",
       "    </tr>\n",
       "  </tbody>\n",
       "</table>\n",
       "</div>"
      ],
      "text/plain": [
       "                                                text screen_label cpu_label  \\\n",
       "0  i am not finding a fancy computer but a powerf...            3         5   \n",
       "1  i am replacing my old computer which i want a ...            3         2   \n",
       "2                     the computer should be light .            3         7   \n",
       "3                      i need a real fast computer .            3         6   \n",
       "4  i need to bring my computer to school so i hop...            2         6   \n",
       "\n",
       "  ram_label hdd_label gpu_label  \n",
       "0         4         6         3  \n",
       "1         2         5         0  \n",
       "2         2         5         4  \n",
       "3         2         6         3  \n",
       "4         3         5         3  "
      ]
     },
     "execution_count": 11,
     "metadata": {},
     "output_type": "execute_result"
    }
   ],
   "source": [
    "df_need_train = pd.DataFrame(columns = need_train_keys)\n",
    "for i, line in enumerate(need_train['text']):\n",
    "    temp = [vocab[x]['text'] for x in line if vocab[x]['text']!='<pad>' and vocab[x]['text']!='<unk>']\n",
    "    df_need_train.loc[i,'text'] = \" \".join(temp)\n",
    "    df_need_train.loc[i,'screen_label'] =  need_train['screen_label'][i]\n",
    "    df_need_train.loc[i,'cpu_label'] =  need_train['cpu_label'][i]\n",
    "    df_need_train.loc[i,'ram_label'] =  need_train['ram_label'][i]\n",
    "    df_need_train.loc[i,'hdd_label'] =  need_train['hdd_label'][i]\n",
    "    df_need_train.loc[i,'gpu_label'] =  need_train['gpu_label'][i]\n",
    "df_need_train.head()"
   ]
  },
  {
   "cell_type": "code",
   "execution_count": 12,
   "metadata": {},
   "outputs": [
    {
     "data": {
      "text/html": [
       "<div>\n",
       "<style scoped>\n",
       "    .dataframe tbody tr th:only-of-type {\n",
       "        vertical-align: middle;\n",
       "    }\n",
       "\n",
       "    .dataframe tbody tr th {\n",
       "        vertical-align: top;\n",
       "    }\n",
       "\n",
       "    .dataframe thead th {\n",
       "        text-align: right;\n",
       "    }\n",
       "</style>\n",
       "<table border=\"1\" class=\"dataframe\">\n",
       "  <thead>\n",
       "    <tr style=\"text-align: right;\">\n",
       "      <th></th>\n",
       "      <th>text</th>\n",
       "      <th>screen_label</th>\n",
       "      <th>cpu_label</th>\n",
       "      <th>ram_label</th>\n",
       "      <th>hdd_label</th>\n",
       "      <th>gpu_label</th>\n",
       "    </tr>\n",
       "  </thead>\n",
       "  <tbody>\n",
       "    <tr>\n",
       "      <th>0</th>\n",
       "      <td>my old computer died suddenly and i need a new...</td>\n",
       "      <td>1</td>\n",
       "      <td>7</td>\n",
       "      <td>2</td>\n",
       "      <td>1</td>\n",
       "      <td>3</td>\n",
       "    </tr>\n",
       "    <tr>\n",
       "      <th>1</th>\n",
       "      <td>i am not a computer savvy and i want a compute...</td>\n",
       "      <td>4</td>\n",
       "      <td>4</td>\n",
       "      <td>2</td>\n",
       "      <td>5</td>\n",
       "      <td>3</td>\n",
       "    </tr>\n",
       "    <tr>\n",
       "      <th>2</th>\n",
       "      <td>i do some light gaming and i am finding an eco...</td>\n",
       "      <td>3</td>\n",
       "      <td>2</td>\n",
       "      <td>1</td>\n",
       "      <td>5</td>\n",
       "      <td>7</td>\n",
       "    </tr>\n",
       "    <tr>\n",
       "      <th>3</th>\n",
       "      <td>i need a definite improvement from my old lapt...</td>\n",
       "      <td>3</td>\n",
       "      <td>7</td>\n",
       "      <td>2</td>\n",
       "      <td>5</td>\n",
       "      <td>7</td>\n",
       "    </tr>\n",
       "    <tr>\n",
       "      <th>4</th>\n",
       "      <td>i need a computer with great build quality .</td>\n",
       "      <td>3</td>\n",
       "      <td>2</td>\n",
       "      <td>2</td>\n",
       "      <td>4</td>\n",
       "      <td>0</td>\n",
       "    </tr>\n",
       "  </tbody>\n",
       "</table>\n",
       "</div>"
      ],
      "text/plain": [
       "                                                text screen_label cpu_label  \\\n",
       "0  my old computer died suddenly and i need a new...            1         7   \n",
       "1  i am not a computer savvy and i want a compute...            4         4   \n",
       "2  i do some light gaming and i am finding an eco...            3         2   \n",
       "3  i need a definite improvement from my old lapt...            3         7   \n",
       "4       i need a computer with great build quality .            3         2   \n",
       "\n",
       "  ram_label hdd_label gpu_label  \n",
       "0         2         1         3  \n",
       "1         2         5         3  \n",
       "2         1         5         7  \n",
       "3         2         5         7  \n",
       "4         2         4         0  "
      ]
     },
     "execution_count": 12,
     "metadata": {},
     "output_type": "execute_result"
    }
   ],
   "source": [
    "df_need_test = pd.DataFrame(columns = need_test_keys)\n",
    "for i, line in enumerate(need_test['text']):\n",
    "    temp = [vocab[x]['text'] for x in line if vocab[x]['text']!='<pad>' and vocab[x]['text']!='<unk>']\n",
    "    df_need_test.loc[i,'text'] = \" \".join(temp)\n",
    "    df_need_test.loc[i,'screen_label'] =  need_test['screen_label'][i]\n",
    "    df_need_test.loc[i,'cpu_label'] =  need_test['cpu_label'][i]\n",
    "    df_need_test.loc[i,'ram_label'] =  need_test['ram_label'][i]\n",
    "    df_need_test.loc[i,'hdd_label'] =  need_test['hdd_label'][i]\n",
    "    df_need_test.loc[i,'gpu_label'] =  need_test['gpu_label'][i]\n",
    "df_need_test.head()"
   ]
  },
  {
   "cell_type": "code",
   "execution_count": null,
   "metadata": {},
   "outputs": [],
   "source": [
    "df_review_train.drop_duplicates(inplace = True)"
   ]
  },
  {
   "cell_type": "code",
   "execution_count": 13,
   "metadata": {},
   "outputs": [],
   "source": [
    "#combining tables as one dataset\n",
    "df_train = df_review_train.append(df_need_train, ignore_index = True)"
   ]
  },
  {
   "cell_type": "code",
   "execution_count": 14,
   "metadata": {},
   "outputs": [],
   "source": [
    "df_train.drop_duplicates(inplace = True)\n",
    "df_train = df_train.dropna()"
   ]
  },
  {
   "cell_type": "code",
   "execution_count": 23,
   "metadata": {
    "scrolled": false
   },
   "outputs": [
    {
     "data": {
      "image/png": "[encoded data removed]",
      "text/plain": [
       "<Figure size 576x432 with 1 Axes>"
      ]
     },
     "metadata": {
      "needs_background": "light"
     },
     "output_type": "display_data"
    }
   ],
   "source": [
    "# CPU label distribution in train dataset\n",
    "fig = plt.figure(figsize=(8,6))\n",
    "df_train.groupby('cpu_label').text.count().plot.bar(ylim=0)\n",
    "plt.show()"
   ]
  },
  {
   "cell_type": "markdown",
   "metadata": {},
   "source": [
    "### Data augmentation by back-translation to solve the label imbalance situation above"
   ]
  },
  {
   "cell_type": "code",
   "execution_count": 33,
   "metadata": {},
   "outputs": [],
   "source": [
    "from google.cloud import translate\n",
    "from google.oauth2 import service_account"
   ]
  },
  {
   "cell_type": "code",
   "execution_count": 33,
   "metadata": {},
   "outputs": [],
   "source": [
    "path_to_file = 'path to service account file'\n",
    "credentials = service_account.Credentials.from_service_account_file(path_to_file)"
   ]
  },
  {
   "cell_type": "code",
   "execution_count": 34,
   "metadata": {},
   "outputs": [],
   "source": [
    "client = translate.TranslationServiceClient(credentials=credentials)"
   ]
  },
  {
   "cell_type": "code",
   "execution_count": 45,
   "metadata": {},
   "outputs": [],
   "source": [
    "def sample_translate_text(text, project_id, src, target, credentials):\n",
    "    \"\"\"Translating Text.\"\"\"\n",
    "\n",
    "    client = translate.TranslationServiceClient(credentials=credentials)\n",
    "\n",
    "    parent = client.location_path(project_id, \"global\")\n",
    "\n",
    "    # Detail on supported types can be found here:\n",
    "    # https://cloud.google.com/translate/docs/supported-formats\n",
    "    response = client.translate_text(\n",
    "        parent=parent,\n",
    "        contents=[text],\n",
    "        mime_type=\"text/plain\",  # mime types: text/plain, text/html\n",
    "        source_language_code=src,\n",
    "        target_language_code=target,\n",
    "    )\n",
    "    # Display the translation for each input text provided\n",
    "    return_texts = []\n",
    "    for translation in response.translations:\n",
    "        return_texts.append(translation.translated_text)\n",
    "    return return_texts\n"
   ]
  },
  {
   "cell_type": "code",
   "execution_count": 47,
   "metadata": {},
   "outputs": [],
   "source": [
    "#destination languages\n",
    "dest_langs = ['ja', 'de', 'es', 'hi', 'tr', 'zh-CN']"
   ]
  },
  {
   "cell_type": "code",
   "execution_count": 14,
   "metadata": {},
   "outputs": [],
   "source": [
    "df_train.to_csv('df_train.csv')"
   ]
  },
  {
   "cell_type": "code",
   "execution_count": 51,
   "metadata": {},
   "outputs": [],
   "source": [
    "df_train = pd.read_csv('df_train.csv')"
   ]
  },
  {
   "cell_type": "code",
   "execution_count": null,
   "metadata": {
    "scrolled": true
   },
   "outputs": [],
   "source": [
    "#completing each number of data points per each label to at least 1k\n",
    "# NOTE: You can directly use the readily available one saved in ./data/df_train_with_augmentation.csv\n",
    "your_project_id = 'your_project_id'\n",
    "counts = df_train.groupby('cpu_label').text.count()\n",
    "for i in range(9,len(counts)):\n",
    "    if counts[i]<1000:\n",
    "        temp_df = copy.deepcopy(df_train[df_train['cpu_label']==i])\n",
    "        subs = 1000-counts[i]\n",
    "        for j in range(subs):\n",
    "            rand_i = random.choice(temp_df.index)\n",
    "            temp_text = temp_df.loc[rand_i,'text']\n",
    "            rand_lang = random.choice(dest_langs)\n",
    "            a = sample_translate_text(text = temp_text, project_id = your_project_id, \n",
    "              src = 'en-US', target= rand_lang, credentials=credentials)[0]\n",
    "            temp_df.loc[rand_i, 'text'] = sample_translate_text(text = a, project_id = your_project_id, \n",
    "              src = rand_lang, target= 'en-US', credentials=credentials)[0].lower()\n",
    "            df_train = df_train.append(temp_df.loc[rand_i,:], ignore_index = True)\n",
    "            print(i,'/9\\t',j,'/',subs)"
   ]
  },
  {
   "cell_type": "code",
   "execution_count": 59,
   "metadata": {},
   "outputs": [
    {
     "data": {
      "text/plain": [
       "12506"
      ]
     },
     "execution_count": 59,
     "metadata": {},
     "output_type": "execute_result"
    }
   ],
   "source": [
    "#number of train data points after augmentation\n",
    "len(df_train)"
   ]
  },
  {
   "cell_type": "code",
   "execution_count": 60,
   "metadata": {},
   "outputs": [
    {
     "data": {
      "image/png": "[encoded data removed]",
      "text/plain": [
       "<Figure size 576x432 with 1 Axes>"
      ]
     },
     "metadata": {
      "needs_background": "light"
     },
     "output_type": "display_data"
    }
   ],
   "source": [
    "# distribution of data points to labels after augmentation\n",
    "fig = plt.figure(figsize=(8,6))\n",
    "df_train.groupby('cpu_label').text.count().plot.bar(ylim=0)\n",
    "plt.show()"
   ]
  },
  {
   "cell_type": "code",
   "execution_count": 25,
   "metadata": {},
   "outputs": [],
   "source": [
    "# I've already created augmented dataset. You can use this one instead\n",
    "df_train = pd.read_csv('./data/df_train_with_augmentation.csv')"
   ]
  },
  {
   "cell_type": "markdown",
   "metadata": {},
   "source": [
    "### bag of words with tfidf weights"
   ]
  },
  {
   "cell_type": "code",
   "execution_count": 51,
   "metadata": {},
   "outputs": [
    {
     "name": "stderr",
     "output_type": "stream",
     "text": [
      "C:\\Users\\serhad\\AppData\\Local\\Continuum\\anaconda3\\envs\\py36\\lib\\site-packages\\pandas\\core\\frame.py:7138: FutureWarning: Sorting because non-concatenation axis is not aligned. A future version\n",
      "of pandas will change to not sort by default.\n",
      "\n",
      "To accept the future behavior, pass 'sort=False'.\n",
      "\n",
      "To retain the current behavior and silence the warning, pass 'sort=True'.\n",
      "\n",
      "  sort=sort,\n"
     ]
    },
    {
     "data": {
      "text/plain": [
       "(12506, 24986)"
      ]
     },
     "execution_count": 51,
     "metadata": {},
     "output_type": "execute_result"
    }
   ],
   "source": [
    "from sklearn.feature_extraction.text import TfidfVectorizer\n",
    "tfidf = TfidfVectorizer(sublinear_tf=True, min_df=2, norm='l2', encoding='utf-8', ngram_range=(1, 3), stop_words='english')\n",
    "tfidf.fit(df_train.append(df_need_test).text)\n",
    "features = tfidf.transform(df_train.text).toarray()\n",
    "labels = [x for x in df_train.cpu_label]\n",
    "features.shape"
   ]
  },
  {
   "cell_type": "code",
   "execution_count": 52,
   "metadata": {},
   "outputs": [
    {
     "data": {
      "text/plain": [
       "(450, 24986)"
      ]
     },
     "execution_count": 52,
     "metadata": {},
     "output_type": "execute_result"
    }
   ],
   "source": [
    "X_test = tfidf.transform(df_need_test.text).toarray()\n",
    "y_test = [x for x in df_need_test.cpu_label]\n",
    "X_test.shape"
   ]
  },
  {
   "cell_type": "markdown",
   "metadata": {},
   "source": [
    "### Just used SVM classifier, without parameter exploration or so"
   ]
  },
  {
   "cell_type": "code",
   "execution_count": 53,
   "metadata": {},
   "outputs": [],
   "source": [
    "from sklearn.svm import LinearSVC\n",
    "model = LinearSVC(max_iter = 1000)\n",
    "X_train = features\n",
    "y_train = labels\n",
    "model.fit(X_train, y_train)\n",
    "y_pred = model.predict(X_test)\n",
    "# xx = np.linspace(xlim[0], xlim[1], 30)\n",
    "# yy = np.linspace(ylim[0], ylim[1], 30)\n",
    "# YY, XX = np.meshgrid(yy, xx)\n",
    "# xy = np.vstack([XX.ravel(), YY.ravel()]).T\n",
    "# Z = clf.decision_function(xy).reshape(XX.shape)"
   ]
  },
  {
   "cell_type": "markdown",
   "metadata": {},
   "source": [
    "### Better performance compared to the model in the paper"
   ]
  },
  {
   "cell_type": "code",
   "execution_count": 54,
   "metadata": {},
   "outputs": [
    {
     "data": {
      "image/png": "[encoded data removed]",
      "text/plain": [
       "<Figure size 864x720 with 2 Axes>"
      ]
     },
     "metadata": {
      "needs_background": "light"
     },
     "output_type": "display_data"
    }
   ],
   "source": [
    "from sklearn.metrics import confusion_matrix\n",
    "conf_mat = confusion_matrix(y_test, y_pred)\n",
    "fig, ax = plt.subplots(figsize=(12,10))\n",
    "import seaborn as sns\n",
    "sns.heatmap(conf_mat, annot=True, fmt='d',\n",
    "            xticklabels=sorted(df_train.cpu_label.unique()), yticklabels=sorted(df_train.cpu_label.unique()))\n",
    "plt.ylabel('Actual')\n",
    "plt.xlabel('Predicted')\n",
    "plt.savefig(\"output.png\", bbox_inches=\"tight\")\n",
    "plt.show()"
   ]
  },
  {
   "cell_type": "code",
   "execution_count": 55,
   "metadata": {},
   "outputs": [
    {
     "name": "stdout",
     "output_type": "stream",
     "text": [
      "              precision    recall  f1-score   support\n",
      "\n",
      "           0       0.66      0.53      0.59        51\n",
      "           1       0.55      0.36      0.43        45\n",
      "           2       0.56      0.59      0.58        91\n",
      "           3       0.73      0.53      0.62        15\n",
      "           4       0.53      0.35      0.42        23\n",
      "           5       0.32      0.46      0.37        13\n",
      "           6       0.53      0.38      0.44        55\n",
      "           7       0.53      0.71      0.60       103\n",
      "           8       0.69      0.72      0.71        47\n",
      "           9       0.36      0.57      0.44         7\n",
      "\n",
      "    accuracy                           0.56       450\n",
      "   macro avg       0.55      0.52      0.52       450\n",
      "weighted avg       0.57      0.56      0.55       450\n",
      "\n"
     ]
    }
   ],
   "source": [
    "from sklearn import metrics\n",
    "print(metrics.classification_report(y_test, y_pred, target_names=sorted([str(x) for x in df_train.cpu_label.unique()])))"
   ]
  }
 ],
 "metadata": {
  "kernelspec": {
   "display_name": "py36",
   "language": "python",
   "name": "py36"
  },
  "language_info": {
   "codemirror_mode": {
    "name": "ipython",
    "version": 3
   },
   "file_extension": ".py",
   "mimetype": "text/x-python",
   "name": "python",
   "nbconvert_exporter": "python",
   "pygments_lexer": "ipython3",
   "version": "3.6.9"
  }
 },
 "nbformat": 4,
 "nbformat_minor": 4
}
